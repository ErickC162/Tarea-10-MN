{
 "cells": [
  {
   "cell_type": "markdown",
   "id": "3a28505a-f2ac-472f-aae5-75739f628f30",
   "metadata": {},
   "source": [
    "### 1."
   ]
  },
  {
   "cell_type": "markdown",
   "id": "b721754a-c9aa-41d1-9f1d-ff7b78e30a4e",
   "metadata": {},
   "source": [
    "#### a."
   ]
  },
  {
   "cell_type": "code",
   "execution_count": 79,
   "id": "9194ecb2-d08b-4634-9379-17e4e23f8739",
   "metadata": {
    "jupyter": {
     "source_hidden": true
    }
   },
   "outputs": [
    {
     "name": "stdout",
     "output_type": "stream",
     "text": [
      "Producto de matrices A y B:\n",
      " [[-4 10]\n",
      " [ 1 15]]\n"
     ]
    }
   ],
   "source": [
    "import numpy as np\n",
    "\n",
    "# matrices para multiplicar\n",
    "A = np.array([[2, -3], [3, -1]])\n",
    "B = np.array([[1, 5], [2, 0]])\n",
    "\n",
    "# Multiplicación de matrices\n",
    "C = np.dot(A, B)\n",
    "print(\"Producto de matrices A y B:\\n\", C)"
   ]
  },
  {
   "cell_type": "markdown",
   "id": "145cda3b-a4fc-4df7-b673-75eb1d037f7a",
   "metadata": {},
   "source": [
    "#### b."
   ]
  },
  {
   "cell_type": "code",
   "execution_count": 85,
   "id": "81897b68-2467-4780-a69f-0aa2b6354227",
   "metadata": {
    "jupyter": {
     "source_hidden": true
    }
   },
   "outputs": [
    {
     "name": "stdout",
     "output_type": "stream",
     "text": [
      "Producto de matrices A y B:\n",
      " [[ 11   4  -8]\n",
      " [  6  13 -12]]\n"
     ]
    }
   ],
   "source": [
    "A = np.array([[2, -3], [3, -1]])\n",
    "B = np.array([[1, 5, -4], [-3, 2, 0]])\n",
    "\n",
    "# Multiplicación de matrices\n",
    "C = np.dot(A, B)\n",
    "print(\"Producto de matrices A y B:\\n\", C)"
   ]
  },
  {
   "cell_type": "markdown",
   "id": "aedebb22-a418-4e4e-998e-4395a984fd0f",
   "metadata": {},
   "source": [
    "#### c."
   ]
  },
  {
   "cell_type": "code",
   "execution_count": 88,
   "id": "aff1e476-a85e-4693-8478-29b0d3698e94",
   "metadata": {
    "jupyter": {
     "source_hidden": true
    }
   },
   "outputs": [
    {
     "name": "stdout",
     "output_type": "stream",
     "text": [
      "Producto de matrices A y B:\n",
      " [[ -1   5  -3]\n",
      " [  3   4 -11]\n",
      " [ -6  -7  -4]]\n"
     ]
    }
   ],
   "source": [
    "A = np.array([[2, -3, 1], [4, 3, 0], [5, 2, -4]])\n",
    "B = np.array([[0, 1, -2], [1, 0, -1], [2, 3, -2]])\n",
    "\n",
    "# Multiplicación de matrices\n",
    "C = np.dot(A, B)\n",
    "print(\"Producto de matrices A y B:\\n\", C)"
   ]
  },
  {
   "cell_type": "markdown",
   "id": "0df7a8dd-7cc5-47e2-a407-8782654c1495",
   "metadata": {},
   "source": [
    "#### d."
   ]
  },
  {
   "cell_type": "code",
   "execution_count": 91,
   "id": "00fe5ab7-0cde-4faa-a76c-5f0359c4912f",
   "metadata": {
    "jupyter": {
     "source_hidden": true
    }
   },
   "outputs": [
    {
     "name": "stdout",
     "output_type": "stream",
     "text": [
      "Producto de matrices A y B:\n",
      " [[ -2   1]\n",
      " [-14   7]\n",
      " [  6   1]]\n"
     ]
    }
   ],
   "source": [
    "A = np.array([[2, 1, 2], [-2, 3, 0], [2, -1, 3]])\n",
    "B = np.array([[1, -2], [-4, 1], [0, 2]])\n",
    "\n",
    "# Multiplicación de matrices\n",
    "C = np.dot(A, B)\n",
    "print(\"Producto de matrices A y B:\\n\", C)"
   ]
  },
  {
   "cell_type": "markdown",
   "id": "1c9f60ba-9041-48bc-bea3-fb7a9510de72",
   "metadata": {},
   "source": [
    "### 2."
   ]
  },
  {
   "cell_type": "code",
   "execution_count": 11,
   "id": "634d966c-3f1c-4fd1-823a-5b8d999238a8",
   "metadata": {
    "jupyter": {
     "source_hidden": true
    }
   },
   "outputs": [
    {
     "name": "stdout",
     "output_type": "stream",
     "text": [
      "Determinante de A: 0.0\n",
      "La matriz A es singular y no tiene inversa.\n"
     ]
    }
   ],
   "source": [
    "A = np.array([[4, 2, 6], \n",
    "              [3, 0, 7],\n",
    "              [-2, -1, -3],\n",
    "             ])\n",
    "\n",
    "# Determinante de la matriz\n",
    "det_A = np.linalg.det(A)\n",
    "print(\"Determinante de A:\", det_A)\n",
    "\n",
    "# Verificar si la matriz es no singular\n",
    "if det_A != 0:\n",
    "    A_inv = np.linalg.inv(A)\n",
    "    print(\"Inversa de A:\\n\", A_inv)\n",
    "else:\n",
    "    print(\"La matriz A es singular y no tiene inversa.\")"
   ]
  },
  {
   "cell_type": "code",
   "execution_count": 15,
   "id": "9e29eae2-a45b-4306-9ebf-e9fd73d47fad",
   "metadata": {
    "jupyter": {
     "source_hidden": true
    }
   },
   "outputs": [
    {
     "name": "stdout",
     "output_type": "stream",
     "text": [
      "Determinante de B: -8.000000000000002\n",
      "Inversa de B:\n",
      " [[-0.25   0.25   0.25 ]\n",
      " [ 0.625 -0.125 -0.125]\n",
      " [ 0.125 -0.625  0.375]]\n"
     ]
    }
   ],
   "source": [
    "B = np.array([[1, 2, 0], \n",
    "              [2, 1, -1],\n",
    "              [3, 1, 1],\n",
    "             ])\n",
    "# Determinante de la matriz\n",
    "det_B = np.linalg.det(B)\n",
    "print(\"Determinante de B:\", det_B)\n",
    "\n",
    "# Verificar si la matriz es no singular\n",
    "if det_B != 0:\n",
    "    B_inv = np.linalg.inv(B)\n",
    "    print(\"Inversa de B:\\n\", B_inv)\n",
    "else:\n",
    "    print(\"La matriz B es singular y no tiene inversa.\")"
   ]
  },
  {
   "cell_type": "code",
   "execution_count": 17,
   "id": "0dad8f64-0cb7-4054-b09c-8da2f53bf309",
   "metadata": {
    "jupyter": {
     "source_hidden": true
    }
   },
   "outputs": [
    {
     "name": "stdout",
     "output_type": "stream",
     "text": [
      "Determinante de C: 0.0\n",
      "La matriz C es singular y no tiene inversa.\n"
     ]
    }
   ],
   "source": [
    "C = np.array([[1, 1, -1, 1], \n",
    "              [1, 2, -4, -2],\n",
    "              [2, 1, 1, 5],\n",
    "              [-1, 0, -2, -4]\n",
    "             ])\n",
    "# Determinante de la matriz\n",
    "det_C = np.linalg.det(C)\n",
    "print(\"Determinante de C:\", det_C)\n",
    "\n",
    "# Verificar si la matriz es no singular\n",
    "if det_C != 0:\n",
    "    C_inv = np.linalg.inv(C)\n",
    "    print(\"Inversa de C:\\n\", C_inv)\n",
    "else:\n",
    "    print(\"La matriz C es singular y no tiene inversa.\")"
   ]
  },
  {
   "cell_type": "code",
   "execution_count": 19,
   "id": "04284a21-529d-4446-9eaa-3a77c1a27231",
   "metadata": {
    "jupyter": {
     "source_hidden": true
    }
   },
   "outputs": [
    {
     "name": "stdout",
     "output_type": "stream",
     "text": [
      "Determinante de D: 28.00000000000001\n",
      "Inversa de D:\n",
      " [[ 2.50000000e-01 -2.77555756e-17  0.00000000e+00  0.00000000e+00]\n",
      " [-2.14285714e-01  1.42857143e-01 -0.00000000e+00 -0.00000000e+00]\n",
      " [ 1.07142857e-01 -1.57142857e+00  1.00000000e+00 -0.00000000e+00]\n",
      " [-5.00000000e-01  1.00000000e+00 -1.00000000e+00  1.00000000e+00]]\n"
     ]
    }
   ],
   "source": [
    "D = np.array([[4, 0, 0, 0], \n",
    "              [6, 7, 0, 0],\n",
    "              [9, 11, 1, 0],\n",
    "              [5, 4, 1, 1]\n",
    "             ])\n",
    "# Determinante de la matriz\n",
    "det_D = np.linalg.det(D)\n",
    "print(\"Determinante de D:\", det_D)\n",
    "\n",
    "# Verificar si la matriz es no singular\n",
    "if det_D != 0:\n",
    "    D_inv = np.linalg.inv(D)\n",
    "    print(\"Inversa de D:\\n\", D_inv)\n",
    "else:\n",
    "    print(\"La matriz D es singular y no tiene inversa.\")"
   ]
  },
  {
   "cell_type": "markdown",
   "id": "1dd810ca-08a7-4756-9fdd-b5fe1243f04c",
   "metadata": {},
   "source": [
    "### 3."
   ]
  },
  {
   "cell_type": "code",
   "execution_count": 23,
   "id": "e018dbb2-9816-42d0-9836-c6b9967c8fc3",
   "metadata": {
    "jupyter": {
     "source_hidden": true
    }
   },
   "outputs": [
    {
     "name": "stdout",
     "output_type": "stream",
     "text": [
      "Solución del sistema lineal: [ 3. -6. -2. -1.]\n"
     ]
    }
   ],
   "source": [
    "# matriz de coeficientes\n",
    "A = np.array([[1, -1, 2, -1], [1, 0, -1, 1], [2, 1, 3, -4], [0, -1, 1, -1]])\n",
    "b1 = np.array([6, 4, -2, 5])\n",
    "\n",
    "# Resolver el sistema lineal Ax = b\n",
    "x = np.linalg.solve(A, b1)\n",
    "print(\"Solución del sistema lineal:\", x)"
   ]
  },
  {
   "cell_type": "code",
   "execution_count": 25,
   "id": "528e3da1-76f2-4d37-ad5f-dd23a9d4bd26",
   "metadata": {
    "jupyter": {
     "source_hidden": true
    }
   },
   "outputs": [
    {
     "name": "stdout",
     "output_type": "stream",
     "text": [
      "Solución del sistema lineal: [1. 1. 1. 1.]\n"
     ]
    }
   ],
   "source": [
    "# matriz de coeficientes\n",
    "A = np.array([[1, -1, 2, -1], [1, 0, -1, 1], [2, 1, 3, -4], [0, -1, 1, -1]])\n",
    "b2 = np.array([1, 1, 2, -1])\n",
    "\n",
    "# Resolver el sistema lineal Ax = b\n",
    "x = np.linalg.solve(A, b2)\n",
    "print(\"Solución del sistema lineal:\", x)"
   ]
  },
  {
   "cell_type": "markdown",
   "id": "75e797c7-94e9-42bd-b3b8-f975a545aa2f",
   "metadata": {},
   "source": [
    "### 4."
   ]
  },
  {
   "cell_type": "code",
   "execution_count": 32,
   "id": "4206db3c-b347-4209-b63d-833c577626ae",
   "metadata": {
    "jupyter": {
     "source_hidden": true
    }
   },
   "outputs": [
    {
     "name": "stdout",
     "output_type": "stream",
     "text": [
      "Determinante de la matriz: 2*A**2 - A - 6.0\n",
      "Valores de A que hacen la matriz singular: [-1.50000000000000, 2.00000000000000]\n"
     ]
    }
   ],
   "source": [
    "# Matriz con variable A\n",
    "A = np.array([[1, -1, 'A'], [2, 2, 1],[0, 'A', -3/2]])\n",
    "\n",
    "# Determinante de la matriz\n",
    "from sympy import Symbol, Matrix\n",
    "\n",
    "A_var = Symbol('A')\n",
    "matrix = Matrix([[1, -1, A_var], [2, 2, 1],[0, A_var, -3/2]])\n",
    "det_matrix = matrix.det()\n",
    "print(\"Determinante de la matriz:\", det_matrix)\n",
    "\n",
    "# Solucionar para que el determinante sea 0\n",
    "from sympy import solve\n",
    "\n",
    "values = solve(det_matrix, A_var)\n",
    "print(\"Valores de A que hacen la matriz singular:\", values)"
   ]
  },
  {
   "cell_type": "markdown",
   "id": "f5180427-aa36-4ab7-92f4-dca444eda4ee",
   "metadata": {},
   "source": [
    "### 5."
   ]
  },
  {
   "cell_type": "code",
   "execution_count": 35,
   "id": "ea3ed5c1-2624-4088-8b4f-879a58f5bd58",
   "metadata": {
    "jupyter": {
     "source_hidden": true
    }
   },
   "outputs": [
    {
     "name": "stdout",
     "output_type": "stream",
     "text": [
      "Solución para el sistema a:\n",
      "[-3.  3.  1.]\n",
      "Solución para el sistema b:\n",
      "[ 0.5 -4.5  3.5]\n"
     ]
    }
   ],
   "source": [
    "import numpy as np\n",
    "\n",
    "# Sistema a\n",
    "A1 = np.array([\n",
    "    [1, 0, 0],\n",
    "    [2, 1, 0],\n",
    "    [-1, 0, 1]\n",
    "])\n",
    "B1 = np.array([\n",
    "    [2, 3, -1],\n",
    "    [0, -2, 1],\n",
    "    [0, 0, 3]\n",
    "])\n",
    "C1 = np.array([2, -1, 1])\n",
    "\n",
    "# Sistema b\n",
    "A2 = np.array([\n",
    "    [2, 0, 0],\n",
    "    [-1, 1, 0],\n",
    "    [3, 2, -1]\n",
    "])\n",
    "B2 = np.array([\n",
    "    [1, 1, 1],\n",
    "    [0, 1, 2],\n",
    "    [0, 0, 1]\n",
    "])\n",
    "C2 = np.array([-1, 3, 0])\n",
    "\n",
    "# Resolver el sistema a\n",
    "X1 = np.linalg.solve(np.dot(A1, B1), C1)\n",
    "\n",
    "# Resolver el sistema b\n",
    "X2 = np.linalg.solve(np.dot(A2, B2), C2)\n",
    "\n",
    "print(\"Solución para el sistema a:\")\n",
    "print(X1)\n",
    "\n",
    "print(\"Solución para el sistema b:\")\n",
    "print(X2)"
   ]
  },
  {
   "cell_type": "markdown",
   "id": "ed89f75b-a654-4834-bdb5-25df0dbc9515",
   "metadata": {},
   "source": [
    "### 6."
   ]
  },
  {
   "cell_type": "code",
   "execution_count": 39,
   "id": "03499a31-4dd0-4c03-b041-5fa54a588200",
   "metadata": {
    "jupyter": {
     "source_hidden": true
    }
   },
   "outputs": [
    {
     "name": "stdout",
     "output_type": "stream",
     "text": [
      "\n",
      "Matriz a:\n",
      "Matriz P:\n",
      " [[0. 1. 0.]\n",
      " [1. 0. 0.]\n",
      " [0. 0. 1.]]\n",
      "Matriz L:\n",
      " [[ 1.          0.          0.        ]\n",
      " [ 0.66666667  1.          0.        ]\n",
      " [ 1.         -0.          1.        ]]\n",
      "Matriz U:\n",
      " [[ 3.  3.  9.]\n",
      " [ 0. -3. -5.]\n",
      " [ 0.  0. -4.]]\n",
      "\n",
      "Matriz b:\n",
      "Matriz P:\n",
      " [[0. 0. 1.]\n",
      " [0. 1. 0.]\n",
      " [1. 0. 0.]]\n",
      "Matriz L:\n",
      " [[ 1.          0.          0.        ]\n",
      " [-0.68685567  1.          0.        ]\n",
      " [ 0.32603093 -0.21424728  1.        ]]\n",
      "Matriz U:\n",
      " [[ 3.104      -7.013       0.014     ]\n",
      " [ 0.         -0.72091881 -7.00338402]\n",
      " [ 0.          0.          1.59897957]]\n",
      "\n",
      "Matriz c:\n",
      "Matriz P:\n",
      " [[1. 0. 0. 0.]\n",
      " [0. 0. 0. 1.]\n",
      " [0. 1. 0. 0.]\n",
      " [0. 0. 1. 0.]]\n",
      "Matriz L:\n",
      " [[ 1.          0.          0.        ]\n",
      " [ 0.          1.          0.        ]\n",
      " [ 1.          0.66666667  1.        ]\n",
      " [ 0.5        -0.5         0.375     ]]\n",
      "Matriz U:\n",
      " [[ 2.          0.          0.        ]\n",
      " [ 0.         -3.          0.5       ]\n",
      " [ 0.          0.          0.66666667]]\n",
      "\n",
      "Matriz d:\n",
      "Matriz P:\n",
      " [[0. 0. 1. 0.]\n",
      " [0. 1. 0. 0.]\n",
      " [0. 0. 0. 1.]\n",
      " [1. 0. 0. 0.]]\n",
      "Matriz L:\n",
      " [[ 1.          0.          0.          0.        ]\n",
      " [-0.66790072  1.          0.          0.        ]\n",
      " [ 0.36118536  0.14002434  1.          0.        ]\n",
      " [-0.16601644 -0.37924771 -0.5112737   1.        ]]\n",
      "Matriz U:\n",
      " [[ 6.0235      7.          0.         -4.1561    ]\n",
      " [ 0.         10.67530506  0.         -1.57856219]\n",
      " [ 0.          0.         -2.1732      6.91885959]\n",
      " [ 0.          0.          0.          2.24878393]]\n"
     ]
    }
   ],
   "source": [
    "import numpy as np\n",
    "from scipy.linalg import lu\n",
    "\n",
    "# Matrices del ejercicio (a, b, c, d)\n",
    "matrices = [\n",
    "    np.array([[2, -1, 1], [3, 3, 9], [3, 3, 5]]),\n",
    "    np.array([[1.012, -2.132, 3.104], [-2.132, 4.096, -7.013], [3.104, -7.013, 0.014]]),\n",
    "    np.array([[2, 0, 0], [1, 1.5, 0], [0, -3, 0.5], [2, -2, 1]]),\n",
    "    np.array([[2.1756, 4.0231, -2.1732, 5.1967], [-4.0231, 6.0000, 0, 1.1973], [-1.0000, -5.2107, 1.1111, 0], [6.0235, 7.0000, 0, -4.1561]])\n",
    "]\n",
    "\n",
    "for i, A in enumerate(matrices):\n",
    "    # Factorización LU\n",
    "    P, L, U = lu(A)\n",
    "\n",
    "    print(f\"\\nMatriz {chr(97 + i)}:\")  # Imprime a, b, c, d\n",
    "    print(\"Matriz P:\\n\", P)\n",
    "    print(\"Matriz L:\\n\", L)\n",
    "    print(\"Matriz U:\\n\", U)\n"
   ]
  },
  {
   "cell_type": "markdown",
   "id": "f1c2d724-ceb1-49a1-93a0-54f8797ed522",
   "metadata": {},
   "source": [
    "### 7."
   ]
  },
  {
   "cell_type": "code",
   "execution_count": 49,
   "id": "faf6e7ec-9c35-4e68-9219-fcc7a701ee4c",
   "metadata": {
    "jupyter": {
     "source_hidden": true
    }
   },
   "outputs": [],
   "source": [
    "def eliminacion_gaussiana_lu(A: np.ndarray) -> (np.ndarray, np.ndarray):\n",
    "    \"\"\"Descompone una matriz A en matrices L y U usando eliminación gaussiana.\n",
    "\n",
    "    ## Parameters\n",
    "\n",
    "    ``A``: matriz de coeficientes del sistema de ecuaciones lineales. Debe ser de tamaño n-by-n.\n",
    "\n",
    "    ## Return\n",
    "\n",
    "    ``L``: matriz triangular inferior.\n",
    "    ``U``: matriz triangular superior.\n",
    "    \"\"\"\n",
    "    if not isinstance(A, np.ndarray):\n",
    "        A = np.array(A)\n",
    "    assert A.shape[0] == A.shape[1], \"La matriz A debe ser cuadrada.\"\n",
    "    n = A.shape[0]\n",
    "\n",
    "    L = np.eye(n)\n",
    "    U = A.copy()\n",
    "\n",
    "    for i in range(0, n - 1):  # loop por columna\n",
    "\n",
    "        # --- encontrar pivote\n",
    "        p = None  # default, first element\n",
    "        for pi in range(i, n):\n",
    "            if U[pi, i] == 0:\n",
    "                # must be nonzero\n",
    "                continue\n",
    "\n",
    "            if p is None:\n",
    "                # first nonzero element\n",
    "                p = pi\n",
    "                continue\n",
    "\n",
    "            if abs(U[pi, i]) < abs(U[p, i]):\n",
    "                p = pi\n",
    "\n",
    "        if p is None:\n",
    "            # no pivot found.\n",
    "            raise ValueError(\"No existe solución única.\")\n",
    "\n",
    "        if p != i:\n",
    "            # swap rows\n",
    "            U[[i, p], :] = U[[p, i], :]\n",
    "            L[[i, p], :i] = L[[p, i], :i]\n",
    "\n",
    "        # --- Eliminación: loop por fila\n",
    "        for j in range(i + 1, n):\n",
    "            m = U[j, i] / U[i, i]\n",
    "            U[j, i:] = U[j, i:] - m * U[i, i:]\n",
    "            L[j, i] = m\n",
    "\n",
    "\n",
    "    return L, U"
   ]
  },
  {
   "cell_type": "code",
   "execution_count": 51,
   "id": "b08a9ca0-159f-40cf-8cd9-dea46c7f0bc7",
   "metadata": {
    "jupyter": {
     "source_hidden": true
    }
   },
   "outputs": [],
   "source": [
    "def resolver_sistema_lu(L: np.ndarray, U: np.ndarray, b: np.ndarray) -> np.ndarray:\n",
    "    \"\"\"Resuelve un sistema de ecuaciones lineales utilizando matrices L y U.\n",
    "\n",
    "    ## Parameters\n",
    "\n",
    "    ``L``: matriz triangular inferior.\n",
    "    ``U``: matriz triangular superior.\n",
    "    ``b``: vector de términos independientes.\n",
    "\n",
    "    ## Return\n",
    "\n",
    "    ``x``: vector con la solución del sistema de ecuaciones lineales.\n",
    "    \"\"\"\n",
    "    n = L.shape[0]\n",
    "\n",
    "    # Resolviendo Ly = b\n",
    "    y = np.zeros_like(b)\n",
    "    for i in range(n):\n",
    "        y[i] = b[i] - sum(L[i, j] * y[j] for j in range(i))\n",
    "\n",
    "    # Resolviendo Ux = y\n",
    "    x = np.zeros_like(b)\n",
    "    for i in range(n - 1, -1, -1):\n",
    "        x[i] = (y[i] - sum(U[i, j] * x[j] for j in range(i + 1, n))) / U[i, i]\n",
    "\n",
    "    return x"
   ]
  },
  {
   "cell_type": "markdown",
   "id": "77c3fca5-ff6d-43ac-b1fd-34542703fa7e",
   "metadata": {},
   "source": [
    "#### a."
   ]
  },
  {
   "cell_type": "code",
   "execution_count": 61,
   "id": "19885358-2bdc-4477-9635-606bf09dc3a8",
   "metadata": {
    "jupyter": {
     "source_hidden": true
    }
   },
   "outputs": [
    {
     "name": "stdout",
     "output_type": "stream",
     "text": [
      "Solución del sistema lineal: [ 1  2 -1]\n"
     ]
    }
   ],
   "source": [
    "A = np.array([[2, -1, 1], [3, 3, 9], [3, 3, 5]])\n",
    "b = np.array([-1, 0, 4]) \n",
    "\n",
    "# Descomposición LU\n",
    "L, U = eliminacion_gaussiana_lu(A)\n",
    "\n",
    "# Resolver sistema lineal utilizando L y U\n",
    "x = resolver_sistema_lu(L, U, b)\n",
    "print(\"Solución del sistema lineal:\", x)"
   ]
  },
  {
   "cell_type": "markdown",
   "id": "fe40d87f-de71-4ebc-8c12-5a43577936da",
   "metadata": {},
   "source": [
    "#### b."
   ]
  },
  {
   "cell_type": "code",
   "execution_count": 64,
   "id": "5e381cc0-c543-4a82-8022-7c1a40bff3b4",
   "metadata": {
    "jupyter": {
     "source_hidden": true
    }
   },
   "outputs": [
    {
     "name": "stdout",
     "output_type": "stream",
     "text": [
      "Solución del sistema lineal: [1. 1. 1.]\n"
     ]
    }
   ],
   "source": [
    "A = np.array([[1.012, -2.132, 3.104], [-2.132, 4.096, -7.013], [3.104, -7.013, 0.014]])\n",
    "b = np.array([1.984, -5.049, -3.895])\n",
    "\n",
    "# Descomposición LU\n",
    "L, U = eliminacion_gaussiana_lu(A)\n",
    "\n",
    "# Resolver sistema lineal utilizando L y U\n",
    "x = resolver_sistema_lu(L, U, b)\n",
    "print(\"Solución del sistema lineal:\", x)"
   ]
  },
  {
   "cell_type": "markdown",
   "id": "92becb5f-6dc1-4954-9f95-769975e0330c",
   "metadata": {},
   "source": [
    "### c."
   ]
  },
  {
   "cell_type": "code",
   "execution_count": 66,
   "id": "a6dabe60-58f4-43db-920c-206a9198b30c",
   "metadata": {
    "jupyter": {
     "source_hidden": true
    }
   },
   "outputs": [
    {
     "name": "stdout",
     "output_type": "stream",
     "text": [
      "Solución del sistema lineal: [  2.25   0.5  -10.2    7.5 ]\n"
     ]
    }
   ],
   "source": [
    "A = np.array([[2, 0, 0, 0], [1, 1.5, 0, 0], [0, -3, 0.5, 0], [2, -2, 1, 1]])\n",
    "b = np.array([3, 4.5, -6.6, 0.8])\n",
    "\n",
    "# Descomposición LU\n",
    "L, U = eliminacion_gaussiana_lu(A)\n",
    "\n",
    "# Resolver sistema lineal utilizando L y U\n",
    "x = resolver_sistema_lu(L, U, b)\n",
    "print(\"Solución del sistema lineal:\", x)"
   ]
  },
  {
   "cell_type": "markdown",
   "id": "c5161f8d-5b76-4751-a222-8867a284ad6e",
   "metadata": {},
   "source": [
    "#### d."
   ]
  },
  {
   "cell_type": "code",
   "execution_count": 68,
   "id": "0eecc8d0-5821-44b7-9aee-e60ce4d44c92",
   "metadata": {
    "jupyter": {
     "source_hidden": true
    }
   },
   "outputs": [
    {
     "name": "stdout",
     "output_type": "stream",
     "text": [
      "Solución del sistema lineal: [ 3.10093094  1.25924266 24.08826091  6.61513347]\n"
     ]
    }
   ],
   "source": [
    "A = np.array([[2.1756, 4.0231, -2.1732, 5.1967], [-4.0231, 6.0000, 0, 1.1973], [-1.0000, -5.2107, 1.1111, 0], [6.0235, 7.0000, 0, -4.1561]])\n",
    "b = np.array([17.102, -6.1593, 3.0004, 0.0000])\n",
    "\n",
    "# Descomposición LU\n",
    "L, U = eliminacion_gaussiana_lu(A)\n",
    "\n",
    "# Resolver sistema lineal utilizando L y U\n",
    "x = resolver_sistema_lu(L, U, b)\n",
    "print(\"Solución del sistema lineal:\", x)"
   ]
  }
 ],
 "metadata": {
  "kernelspec": {
   "display_name": "Python 3 (ipykernel)",
   "language": "python",
   "name": "python3"
  },
  "language_info": {
   "codemirror_mode": {
    "name": "ipython",
    "version": 3
   },
   "file_extension": ".py",
   "mimetype": "text/x-python",
   "name": "python",
   "nbconvert_exporter": "python",
   "pygments_lexer": "ipython3",
   "version": "3.12.4"
  }
 },
 "nbformat": 4,
 "nbformat_minor": 5
}
